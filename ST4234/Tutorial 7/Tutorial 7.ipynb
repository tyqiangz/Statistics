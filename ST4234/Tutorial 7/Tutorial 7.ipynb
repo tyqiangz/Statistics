{
 "cells": [
  {
   "cell_type": "markdown",
   "metadata": {},
   "source": [
    "# Tutorial 7\n",
    "\n",
    "Having troubles implementing multivariate $t$-distribution. The results here is different from the one done in `R`."
   ]
  },
  {
   "cell_type": "code",
   "execution_count": 1,
   "metadata": {},
   "outputs": [],
   "source": [
    "import matplotlib.pyplot as plt\n",
    "from math import log, exp, sqrt, pi\n",
    "import numpy as np\n",
    "from scipy import optimize, stats, special"
   ]
  },
  {
   "cell_type": "code",
   "execution_count": 2,
   "metadata": {},
   "outputs": [],
   "source": [
    "NUM_VARIATES = 10000"
   ]
  },
  {
   "cell_type": "markdown",
   "metadata": {},
   "source": [
    "Q1b:\n",
    "\n",
    "Find the maximiser of\n",
    "\n",
    "\\begin{align*}\n",
    "    \\ell(\\eta)\n",
    "        &:=\\log p(\\eta|\\boldsymbol{y}) + C\\\\\n",
    "        &=125\\log\\left(2+\\frac{\\mathrm{e}^{\\eta}}{1+\\mathrm{e}^{\\eta}}\\right)\n",
    "        -39\\log\\left(1+\\mathrm{e}^{\\eta}\\right)\n",
    "        +35\\log\\left(\\frac{\\mathrm{e}^{\\eta}}{1+\\mathrm{e}^{\\eta}}\\right)\\\\\n",
    "        &=125\\log\\left(2+\\frac{\\mathrm{e}^{\\eta}}{1+\\mathrm{e}^{\\eta}}\\right)\n",
    "        -74\\log\\left(1+\\mathrm{e}^{\\eta}\\right)\n",
    "        +35\\eta\n",
    "\\end{align*}"
   ]
  },
  {
   "cell_type": "code",
   "execution_count": 3,
   "metadata": {},
   "outputs": [],
   "source": [
    "def log_pos_1a(eta):\n",
    "    return 125*log(2+(exp(eta)/(1+exp(eta)))) - 74*log(1+exp(eta)) + 35*eta"
   ]
  },
  {
   "cell_type": "code",
   "execution_count": 4,
   "metadata": {},
   "outputs": [
    {
     "data": {
      "image/png": "[encoded data removed]",
      "text/plain": [
       "<Figure size 432x288 with 1 Axes>"
      ]
     },
     "metadata": {
      "needs_background": "light"
     },
     "output_type": "display_data"
    }
   ],
   "source": [
    "x = np.linspace(-10, 10, NUM_VARIATES)\n",
    "true_pos_variates = [log_pos_1a(i) for i in x]\n",
    "\n",
    "plt.plot(x, true_pos_variates)\n",
    "plt.xlabel(\"eta\")\n",
    "plt.ylabel(\"log [p (eta | y)]\")\n",
    "plt.title(\"Plot of log posterior of eta\")\n",
    "plt.show()"
   ]
  },
  {
   "cell_type": "code",
   "execution_count": 5,
   "metadata": {},
   "outputs": [
    {
     "data": {
      "text/plain": [
       "      fun: -65.93283274195817\n",
       " hess_inv: array([[0.04731336]])\n",
       "      jac: array([9.53674316e-07])\n",
       "  message: 'Optimization terminated successfully.'\n",
       "     nfev: 12\n",
       "      nit: 2\n",
       "     njev: 4\n",
       "   status: 0\n",
       "  success: True\n",
       "        x: array([0.50660042])"
      ]
     },
     "execution_count": 5,
     "metadata": {},
     "output_type": "execute_result"
    }
   ],
   "source": [
    "minima = optimize.minimize(lambda x: -log_pos_1a(x), x0=0.5)\n",
    "minima"
   ]
  },
  {
   "cell_type": "code",
   "execution_count": 6,
   "metadata": {},
   "outputs": [
    {
     "data": {
      "text/plain": [
       "array([0.08027623, 0.92398736])"
      ]
     },
     "execution_count": 6,
     "metadata": {},
     "output_type": "execute_result"
    }
   ],
   "source": [
    "stats.norm.ppf([0.025, 0.9725], minima.x, sqrt(minima.hess_inv))"
   ]
  },
  {
   "cell_type": "code",
   "execution_count": 7,
   "metadata": {},
   "outputs": [
    {
     "data": {
      "text/plain": [
       "(0.5200574757077301, 0.7158545298788431)"
      ]
     },
     "execution_count": 7,
     "metadata": {},
     "output_type": "execute_result"
    }
   ],
   "source": [
    "1 - 1/(1+exp(0.08027298)), 1 - 1/(1+exp(0.92399065))"
   ]
  },
  {
   "cell_type": "markdown",
   "metadata": {},
   "source": [
    "Q1c: Rejection sampling from the following posterior kernel"
   ]
  },
  {
   "cell_type": "markdown",
   "metadata": {},
   "source": [
    "\\begin{align*}\n",
    "    \\text{Posterior kernel: }\n",
    "    f(\\eta)\n",
    "        &=p(\\eta|\\boldsymbol{y})\n",
    "        =\\left(2+\\frac{\\mathrm{e}^{\\eta}}{1+\\mathrm{e}^{\\eta}}\\right)^{125} \\frac{1}{\\left(1+\\mathrm{e}^{\\eta}\\right)^{39}}\\left(\\frac{\\mathrm{e}^{\\eta}}{1+\\mathrm{e}^{\\eta}}\\right)^{35},\\ \\eta\\in\\mathbb{R}\\\\\n",
    "    \\text{Wrong proposal density: }\n",
    "        g(t)\n",
    "            &=p(t)\n",
    "            =\\frac{\\Gamma(2.5)}{\\Gamma(2) \\sqrt{4 \\pi}}\\left(1+\\frac{t^{2}}{4}\\right)^{-2.5}, \\quad t \\in \\mathbb{R}\\\\\n",
    "        \\log[g(t)]\n",
    "            &=\\log\\left(\\frac{\\Gamma(2.5)}{\\Gamma(2) \\sqrt{4 \\pi}}\\right) - 2.5\\log\\left(1+\\frac{t^{2}}{4}\\right)\\\\\n",
    "            &=\\log\\left(\\frac{\\Gamma(2.5)}{\\sqrt{4 \\pi}}\\right) - 2.5\\log\\left(1+\\frac{t^{2}}{4}\\right)\\\\\n",
    "    \\text{Correct proposal density: }\n",
    "        g'(t, \\mu, \\sigma)\n",
    "            &=\\frac{\\Gamma(2.5)}{(4\\pi)^{\\frac{1}{2}}\\sigma^{\\frac{1}{2}}}\\left[1+\\frac{(t-\\mu)^2}{4\\sigma}\\right]^{-2.5}, \\quad t \\in \\mathbb{R}\\\\\n",
    "        \\log g'(t, \\mu, \\sigma)\n",
    "            &=\\log[\\Gamma(2.5)] - \\frac{1}{2}\\log(4\\pi\\sigma) - \\frac{5}{2}\\log\\left(1+\\frac{(t-\\mu)^2}{4\\sigma}\\right)\n",
    "\\end{align*}\n",
    "Find $\\displaystyle\n",
    "            c'\n",
    "                :=\\operatorname*{\\max}_{x\\in\\mathbb{R}}[\\log f(x)-\\log g(x)]$ and set $c:=e^{c'}$, then follow the following algorithm to generate a random variate from $f(\\eta)$.\n",
    "                \n",
    "**Algorithm:**\n",
    "\n",
    "1. Generate $U$ from $\\operatorname{Uniform}[0,1]$.\n",
    "2. Generate $Y$ from $t_4$.\n",
    "3. If $\\log(Uc) \\le \\log f(Y) - \\log g(Y)$, return $Y$\n",
    "4. Else go back to step 1."
   ]
  },
  {
   "cell_type": "markdown",
   "metadata": {},
   "source": [
    "\\begin{align*}\n",
    "    p(\\mathbf{x})=\\frac{\\Gamma(\\frac{4+1}{2})}{\\Gamma(\\frac{4}{2})(4\\pi)^{\\frac{1}{2}}\\sigma^{\\frac{1}{2}}}\\left[1+\\frac{(\\mathbf{x}-\\boldsymbol{\\mu})^{\\top} \\sigma^{-1}(\\mathbf{x}-\\boldsymbol{\\mu})}{4}\\right]^{-\\frac{4+1}{2}}\n",
    "\\end{align*}"
   ]
  },
  {
   "cell_type": "code",
   "execution_count": 56,
   "metadata": {},
   "outputs": [],
   "source": [
    "def log_g_correct(t, loc, scale):\n",
    "    return log(special.gamma(2.5)) - 0.5*log(4*pi*scale) - 2.5*log(1+ (t-loc)**2/(4*scale))"
   ]
  },
  {
   "cell_type": "code",
   "execution_count": 8,
   "metadata": {},
   "outputs": [],
   "source": [
    "def log_g(t):\n",
    "    return log(special.gamma(2.5)/sqrt(4*pi)) - 2.5*log(1+0.25*t**2)\n",
    "\n",
    "def g(t):\n",
    "    return special.gamma(2.5) / sqrt(4*pi) * ( (1 + 0.5*t**2)**(-2.5) )"
   ]
  },
  {
   "cell_type": "code",
   "execution_count": 61,
   "metadata": {},
   "outputs": [
    {
     "data": {
      "text/plain": [
       "0.5362058231047678"
      ]
     },
     "execution_count": 61,
     "metadata": {},
     "output_type": "execute_result"
    }
   ],
   "source": [
    "loc = minima.x[0]\n",
    "loc"
   ]
  },
  {
   "cell_type": "code",
   "execution_count": 62,
   "metadata": {},
   "outputs": [
    {
     "data": {
      "text/plain": [
       "0.04975826692646999"
      ]
     },
     "execution_count": 62,
     "metadata": {},
     "output_type": "execute_result"
    }
   ],
   "source": [
    "scale = minima.hess_inv[0][0]\n",
    "scale"
   ]
  },
  {
   "cell_type": "markdown",
   "metadata": {},
   "source": [
    "The plot function that we want to minimise:"
   ]
  },
  {
   "cell_type": "code",
   "execution_count": 90,
   "metadata": {},
   "outputs": [
    {
     "data": {
      "image/png": "[encoded data removed]",
      "text/plain": [
       "<Figure size 432x288 with 1 Axes>"
      ]
     },
     "metadata": {
      "needs_background": "light"
     },
     "output_type": "display_data"
    }
   ],
   "source": [
    "x = np.linspace(-1, 1, NUM_VARIATES)\n",
    "\n",
    "plt.plot(x, [-(log_pos_1a(i) - log_g_correct(i, loc=loc, scale=1*scale)) for i in x])\n",
    "plt.xlabel(\"x\")\n",
    "plt.ylabel(\"log f(x) - log g(x)\")\n",
    "plt.show()"
   ]
  },
  {
   "cell_type": "code",
   "execution_count": 213,
   "metadata": {},
   "outputs": [
    {
     "data": {
      "text/plain": [
       "      fun: -65.58370043846338\n",
       " hess_inv: array([[0.08507943]])\n",
       "      jac: array([0.])\n",
       "  message: 'Optimization terminated successfully.'\n",
       "     nfev: 30\n",
       "      nit: 5\n",
       "     njev: 10\n",
       "   status: 0\n",
       "  success: True\n",
       "        x: array([0.27482409])"
      ]
     },
     "execution_count": 213,
     "metadata": {},
     "output_type": "execute_result"
    }
   ],
   "source": [
    "minima = optimize.minimize(lambda x: -(log_pos_1a(x) - log_g_correct(x, loc=loc, scale=1*scale)), x0=1)\n",
    "minima"
   ]
  },
  {
   "cell_type": "code",
   "execution_count": 214,
   "metadata": {},
   "outputs": [],
   "source": [
    "c = exp(minima.x)"
   ]
  },
  {
   "cell_type": "code",
   "execution_count": 215,
   "metadata": {},
   "outputs": [],
   "source": [
    "def rej_samp_1c():\n",
    "    count = 0\n",
    "    \n",
    "    while True:\n",
    "        count += 1\n",
    "        U = np.random.uniform()\n",
    "        Y = stats.t.rvs(df=4, size=1)\n",
    "        \n",
    "        if log(U*c) <= log_pos_1a(Y) - log_g_correct(Y, loc=loc, scale=2*scale):\n",
    "            return Y[0], count"
   ]
  },
  {
   "cell_type": "code",
   "execution_count": 216,
   "metadata": {},
   "outputs": [
    {
     "data": {
      "text/plain": [
       "0.9603380389897244"
      ]
     },
     "execution_count": 216,
     "metadata": {},
     "output_type": "execute_result"
    }
   ],
   "source": [
    "counts = []\n",
    "\n",
    "for i in range(NUM_VARIATES):\n",
    "    counts += [rej_samp_1c()[1]]\n",
    "\n",
    "NUM_VARIATES / sum(counts)"
   ]
  },
  {
   "cell_type": "code",
   "execution_count": 217,
   "metadata": {},
   "outputs": [],
   "source": [
    "pos_variates = [rej_samp_1c()[0] for i in range(NUM_VARIATES)]"
   ]
  },
  {
   "cell_type": "code",
   "execution_count": 218,
   "metadata": {},
   "outputs": [],
   "source": [
    "x = np.linspace(-3,3, NUM_VARIATES)\n",
    "true_pos_variates = [exp(log_pos_1a(i)) for i in x]"
   ]
  },
  {
   "cell_type": "code",
   "execution_count": 219,
   "metadata": {},
   "outputs": [
    {
     "data": {
      "image/png": "[encoded data removed]",
      "text/plain": [
       "<Figure size 720x432 with 1 Axes>"
      ]
     },
     "metadata": {
      "needs_background": "light"
     },
     "output_type": "display_data"
    }
   ],
   "source": [
    "plt.figure(figsize=(10,6))\n",
    "plt.hist(pos_variates, bins=1000, color=\"royalblue\", density=True)\n",
    "# plt.plot(x, abs(x), color=\"red\")\n",
    "\n",
    "plt.legend([\"Rejection sampling\", \"True posterior\"])\n",
    "plt.show()"
   ]
  },
  {
   "cell_type": "code",
   "execution_count": null,
   "metadata": {},
   "outputs": [],
   "source": []
  },
  {
   "cell_type": "code",
   "execution_count": null,
   "metadata": {},
   "outputs": [],
   "source": []
  },
  {
   "cell_type": "code",
   "execution_count": null,
   "metadata": {},
   "outputs": [],
   "source": []
  },
  {
   "cell_type": "code",
   "execution_count": null,
   "metadata": {},
   "outputs": [],
   "source": []
  },
  {
   "cell_type": "code",
   "execution_count": null,
   "metadata": {},
   "outputs": [],
   "source": []
  },
  {
   "cell_type": "code",
   "execution_count": null,
   "metadata": {},
   "outputs": [],
   "source": []
  }
 ],
 "metadata": {
  "kernelspec": {
   "display_name": "Python 3",
   "language": "python",
   "name": "python3"
  },
  "language_info": {
   "codemirror_mode": {
    "name": "ipython",
    "version": 3
   },
   "file_extension": ".py",
   "mimetype": "text/x-python",
   "name": "python",
   "nbconvert_exporter": "python",
   "pygments_lexer": "ipython3",
   "version": "3.8.5"
  }
 },
 "nbformat": 4,
 "nbformat_minor": 4
}
