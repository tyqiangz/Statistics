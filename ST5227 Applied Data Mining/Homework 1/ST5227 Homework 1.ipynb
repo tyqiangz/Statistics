{
 "cells": [
  {
   "cell_type": "markdown",
   "metadata": {},
   "source": [
    "# ST5227 Homework 1\n",
    "\n",
    "Tay Yong Qiang, 1st February 2021\n",
    "\n",
    "Homework 1 Q3, Q4 computations"
   ]
  },
  {
   "cell_type": "code",
   "execution_count": 1,
   "metadata": {},
   "outputs": [],
   "source": [
    "import numpy as np\n",
    "from math import log,sqrt\n",
    "import pandas as pd\n",
    "import statsmodels.api as sm\n",
    "\n",
    "import matplotlib.pyplot as plt\n",
    "from IPython.display import display, Latex"
   ]
  },
  {
   "cell_type": "code",
   "execution_count": 2,
   "metadata": {},
   "outputs": [],
   "source": [
    "pd.set_option('display.max_rows', 10)"
   ]
  },
  {
   "cell_type": "markdown",
   "metadata": {},
   "source": [
    "Q3\n",
    "\n",
    "Import data from `data01T01.dat` then add the quadratic and cubic term to the dataframe."
   ]
  },
  {
   "cell_type": "code",
   "execution_count": 3,
   "metadata": {},
   "outputs": [
    {
     "data": {
      "text/html": [
       "<div>\n",
       "<style scoped>\n",
       "    .dataframe tbody tr th:only-of-type {\n",
       "        vertical-align: middle;\n",
       "    }\n",
       "\n",
       "    .dataframe tbody tr th {\n",
       "        vertical-align: top;\n",
       "    }\n",
       "\n",
       "    .dataframe thead th {\n",
       "        text-align: right;\n",
       "    }\n",
       "</style>\n",
       "<table border=\"1\" class=\"dataframe\">\n",
       "  <thead>\n",
       "    <tr style=\"text-align: right;\">\n",
       "      <th></th>\n",
       "      <th>x</th>\n",
       "      <th>y</th>\n",
       "      <th>x2</th>\n",
       "      <th>x3</th>\n",
       "    </tr>\n",
       "  </thead>\n",
       "  <tbody>\n",
       "    <tr>\n",
       "      <th>0</th>\n",
       "      <td>1.5311</td>\n",
       "      <td>5.0722</td>\n",
       "      <td>2.344267</td>\n",
       "      <td>3.589308</td>\n",
       "    </tr>\n",
       "    <tr>\n",
       "      <th>1</th>\n",
       "      <td>-0.4350</td>\n",
       "      <td>4.1753</td>\n",
       "      <td>0.189225</td>\n",
       "      <td>-0.082313</td>\n",
       "    </tr>\n",
       "    <tr>\n",
       "      <th>2</th>\n",
       "      <td>-1.6068</td>\n",
       "      <td>5.0919</td>\n",
       "      <td>2.581806</td>\n",
       "      <td>-4.148446</td>\n",
       "    </tr>\n",
       "    <tr>\n",
       "      <th>3</th>\n",
       "      <td>-0.5698</td>\n",
       "      <td>3.4605</td>\n",
       "      <td>0.324672</td>\n",
       "      <td>-0.184998</td>\n",
       "    </tr>\n",
       "    <tr>\n",
       "      <th>4</th>\n",
       "      <td>1.7088</td>\n",
       "      <td>5.2301</td>\n",
       "      <td>2.919997</td>\n",
       "      <td>4.989692</td>\n",
       "    </tr>\n",
       "  </tbody>\n",
       "</table>\n",
       "</div>"
      ],
      "text/plain": [
       "        x       y        x2        x3\n",
       "0  1.5311  5.0722  2.344267  3.589308\n",
       "1 -0.4350  4.1753  0.189225 -0.082313\n",
       "2 -1.6068  5.0919  2.581806 -4.148446\n",
       "3 -0.5698  3.4605  0.324672 -0.184998\n",
       "4  1.7088  5.2301  2.919997  4.989692"
      ]
     },
     "execution_count": 3,
     "metadata": {},
     "output_type": "execute_result"
    }
   ],
   "source": [
    "q3_df = pd.read_table(\"data01T01.dat\", skiprows=1, names=[\"x\", \"y\"], sep=\"   \", engine=\"python\")\n",
    "q3_df[\"x2\"] = q3_df[\"x\"].map(lambda x: x*x)\n",
    "q3_df[\"x3\"] = q3_df[\"x\"].map(lambda x: x*x*x)\n",
    "\n",
    "q3_df.head()"
   ]
  },
  {
   "cell_type": "markdown",
   "metadata": {},
   "source": [
    "Add a column of ones to `X` and specify the X and y values for training a linear model."
   ]
  },
  {
   "cell_type": "code",
   "execution_count": 4,
   "metadata": {},
   "outputs": [],
   "source": [
    "X_train = q3_df[[\"x\", \"x2\", \"x3\"]].to_numpy()\n",
    "X_train = sm.add_constant(X_train)\n",
    "y_train = q3_df[\"y\"].to_numpy()"
   ]
  },
  {
   "cell_type": "markdown",
   "metadata": {},
   "source": [
    "Fit a linear regression model"
   ]
  },
  {
   "cell_type": "code",
   "execution_count": 5,
   "metadata": {},
   "outputs": [
    {
     "name": "stdout",
     "output_type": "stream",
     "text": [
      "                            OLS Regression Results                            \n",
      "==============================================================================\n",
      "Dep. Variable:                      y   R-squared:                       0.824\n",
      "Model:                            OLS   Adj. R-squared:                  0.813\n",
      "Method:                 Least Squares   F-statistic:                     71.88\n",
      "Date:                Mon, 01 Feb 2021   Prob (F-statistic):           2.17e-17\n",
      "Time:                        22:36:51   Log-Likelihood:                -103.60\n",
      "No. Observations:                  50   AIC:                             215.2\n",
      "Df Residuals:                      46   BIC:                             222.8\n",
      "Df Model:                           3                                         \n",
      "Covariance Type:            nonrobust                                         \n",
      "==============================================================================\n",
      "                 coef    std err          t      P>|t|      [0.025      0.975]\n",
      "------------------------------------------------------------------------------\n",
      "const         -0.1978      0.469     -0.422      0.675      -1.141       0.746\n",
      "x1            -7.0988      0.599    -11.848      0.000      -8.305      -5.893\n",
      "x2             2.0057      0.244      8.222      0.000       1.515       2.497\n",
      "x3             2.7648      0.229     12.061      0.000       2.303       3.226\n",
      "==============================================================================\n",
      "Omnibus:                        3.700   Durbin-Watson:                   1.965\n",
      "Prob(Omnibus):                  0.157   Jarque-Bera (JB):                2.617\n",
      "Skew:                          -0.471   Prob(JB):                        0.270\n",
      "Kurtosis:                       3.608   Cond. No.                         7.70\n",
      "==============================================================================\n",
      "\n",
      "Warnings:\n",
      "[1] Standard Errors assume that the covariance matrix of the errors is correctly specified.\n"
     ]
    }
   ],
   "source": [
    "model = sm.OLS(y_train, X_train)\n",
    "results = model.fit()\n",
    "\n",
    "print(results.summary())"
   ]
  },
  {
   "cell_type": "code",
   "execution_count": 6,
   "metadata": {},
   "outputs": [
    {
     "data": {
      "text/latex": [
       "$\\hat{\\beta_0} = -0.1977906964507508$, $\\hat{\\beta_1} = -7.098772689373379$, $\\hat{\\beta_2} = 2.0056552249948156$, $\\hat{\\beta_3} = 2.764769207678533$"
      ],
      "text/plain": [
       "<IPython.core.display.Latex object>"
      ]
     },
     "metadata": {},
     "output_type": "display_data"
    }
   ],
   "source": [
    "display(Latex(r'$\\hat{\\beta_0} = ' + f'{results.params[0]}$, ' +\n",
    "              r'$\\hat{\\beta_1} = ' + f'{results.params[1]}$, ' +\n",
    "              r'$\\hat{\\beta_2} = ' + f'{results.params[2]}$, ' +\n",
    "              r'$\\hat{\\beta_3} = ' + f'{results.params[3]}$'))"
   ]
  },
  {
   "cell_type": "code",
   "execution_count": 7,
   "metadata": {},
   "outputs": [
    {
     "data": {
      "text/latex": [
       "$\\hat{\\sigma}^2 = 4.012751061773542$"
      ],
      "text/plain": [
       "<IPython.core.display.Latex object>"
      ]
     },
     "metadata": {},
     "output_type": "display_data"
    }
   ],
   "source": [
    "sigma_hat_sq = np.sum(np.square(results.fittedvalues - y_train)) / (len(y_train) - 3 - 1)\n",
    "\n",
    "display(Latex(r'$\\hat{\\sigma}^2 = ' + f'{sigma_hat_sq}$'))"
   ]
  },
  {
   "cell_type": "markdown",
   "metadata": {},
   "source": [
    "Pick random x-values and calculate its 95% confidence interval"
   ]
  },
  {
   "cell_type": "code",
   "execution_count": 8,
   "metadata": {},
   "outputs": [],
   "source": [
    "# pick random x-values\n",
    "x = np.arange(start=-2.2, stop=2.2, step=0.01)\n",
    "# predict its y-values using the linear model\n",
    "y_pred = results.params[0] + results.params[1]*x + results.params[2]*x*x + results.params[3]*x*x*x\n",
    "\n",
    "# collect the constant term, linear term, quadratic, cubic term of random x into a matrix `X_pred`\n",
    "X_pred = np.zeros((len(x), 4))\n",
    "X_pred[:,0] = 1\n",
    "X_pred[:,1] = x\n",
    "X_pred[:,2] = x**2\n",
    "X_pred[:,3] = x**3\n",
    "\n",
    "mat = np.linalg.inv(np.matmul(X_train.T, X_train))\n",
    "ci = []\n",
    "\n",
    "# for each x in `X_pred`, calculate its confidence band\n",
    "for i in range(len(x)):\n",
    "    temp = np.matmul(X_pred[i,:].T, mat)\n",
    "    temp = np.matmul(temp, X_pred[i,:])\n",
    "    ci += [1.96 * sqrt(sigma_hat_sq * temp)]"
   ]
  },
  {
   "cell_type": "markdown",
   "metadata": {},
   "source": [
    "Plot of the cubic ploynomial, fitted values and 95% confidence band"
   ]
  },
  {
   "cell_type": "code",
   "execution_count": 9,
   "metadata": {},
   "outputs": [
    {
     "data": {
      "image/png": "[encoded data removed]",
      "text/plain": [
       "<Figure size 1080x432 with 1 Axes>"
      ]
     },
     "metadata": {
      "needs_background": "light"
     },
     "output_type": "display_data"
    }
   ],
   "source": [
    "plt.figure(figsize=[15,6])\n",
    "plt.plot(x, y_pred, color=\"r\")\n",
    "plt.scatter(q3_df.x, q3_df.y)\n",
    "plt.fill_between(x, y_pred-ci, y_pred+ci, color='b', alpha=.1)\n",
    "\n",
    "plt.xlabel(r\"$x$\")\n",
    "plt.ylabel(r\"$y$\")\n",
    "plt.title(r\"$y = \\beta_0 + \\beta_1x + \\beta_2x^2 + \\beta_3x^3$\")\n",
    "plt.legend([\"fitted curve\", \"data points\", \"95% confidence interval\"], bbox_to_anchor=(1.05, 1), loc='upper left')\n",
    "plt.show()"
   ]
  },
  {
   "cell_type": "markdown",
   "metadata": {},
   "source": [
    "Q4"
   ]
  },
  {
   "cell_type": "code",
   "execution_count": 10,
   "metadata": {},
   "outputs": [],
   "source": [
    "n = 40\n",
    "\n",
    "BIC = {\"0\": 0.9596, \"1\": 0.7902, \"2\": 1.0517, \"3\": 1.0050, \"4\": 0.7338, \"5\": 0.7950,\n",
    "       \"12\": 0.8786, \"13\": 0.8500, \"14\": 0.5632, \"15\": 0.3361, \"23\": 1.0972, \"24\": 0.8257, \"25\": 0.8822, \n",
    "       \"34\": 0.7451, \"35\": 0.8739, \"45\": -0.1927, \"123\": 0.9370, \"124\": 0.6468, \"125\": 0.4282, \n",
    "       \"134\": 0.5914, \"135\": 0.4283, \"145\": -4.6600, \"234\": 0.8358, \"235\": 0.9625,\n",
    "       \"245\": -0.1099, \"345\": -0.1223, \"1234\": 0.6714, \"1235\": 0.5204, \"1245\": -4.6093, \"1345\": -4.6157, \n",
    "       \"2345\": -0.0372, \"12345\": -4.5600}\n",
    "\n",
    "SSE = {'0': 95.2261, '1': 73.3037, '2': 95.2139, '3': 90.8737, '4': 69.2889, '5': 73.6588,\n",
    "       '12': 73.0233, '13': 70.9692, '14': 53.2715, '15': 42.4473, '23': 90.8726, '24': 69.266, '25': 73.2872,\n",
    "       '34': 63.9012, '35': 72.6848, '45': 25.016, '123': 70.5948, '124': 52.8136, '125': 42.444,\n",
    "       '134': 49.9665, '135': 42.4467, '145': 0.2618, '234': 63.7998, '235': 72.4197, '245': 24.7802,\n",
    "       '345': 24.4749, '1234': 49.3597, '1235': 42.4432, '1245': 0.2512,\n",
    "       '1345': 0.2496, '2345': 24.3022, '12345': 0.2406}"
   ]
  },
  {
   "cell_type": "markdown",
   "metadata": {},
   "source": [
    "Best model by BIC:"
   ]
  },
  {
   "cell_type": "code",
   "execution_count": 11,
   "metadata": {},
   "outputs": [
    {
     "data": {
      "text/plain": [
       "('145', -4.66)"
      ]
     },
     "execution_count": 11,
     "metadata": {},
     "output_type": "execute_result"
    }
   ],
   "source": [
    "min_bic = 0\n",
    "bic_model = \"\"\n",
    "\n",
    "for key in BIC.keys():\n",
    "    if BIC[key] < min_bic:\n",
    "        min_bic = BIC[key]\n",
    "        bic_model = key\n",
    "\n",
    "bic_model, min_bic"
   ]
  },
  {
   "cell_type": "markdown",
   "metadata": {},
   "source": [
    "Best model by BIC and forward selection:"
   ]
  },
  {
   "cell_type": "code",
   "execution_count": 12,
   "metadata": {},
   "outputs": [
    {
     "name": "stdout",
     "output_type": "stream",
     "text": [
      "Model: '0', BIC = 0.9596\n",
      "Model: '4', BIC = 0.7338\n",
      "Model: '45', BIC = -0.1927\n",
      "Model: '145', BIC = -4.66\n"
     ]
    }
   ],
   "source": [
    "bic_fwd = BIC[\"0\"]\n",
    "bic_fwd_model = \"0\"\n",
    "\n",
    "for i in range(1, 5):\n",
    "    print(f\"Model: '{bic_fwd_model}', BIC = {bic_fwd}\")\n",
    "    for model in BIC.keys():\n",
    "        if len(model) == i and BIC[model] < bic_fwd:\n",
    "            bic_fwd = BIC[model]\n",
    "            bic_fwd_model = model"
   ]
  },
  {
   "cell_type": "markdown",
   "metadata": {},
   "source": [
    "Best model by BIC and backward elimination:"
   ]
  },
  {
   "cell_type": "code",
   "execution_count": 13,
   "metadata": {},
   "outputs": [
    {
     "name": "stdout",
     "output_type": "stream",
     "text": [
      "Model: '12345', BIC = -4.56\n",
      "Model: '1345', BIC = -4.6157\n",
      "Model: '145', BIC = -4.66\n"
     ]
    }
   ],
   "source": [
    "bic_bwd = BIC[\"12345\"]\n",
    "bic_bwd_model = \"12345\"\n",
    "\n",
    "for i in range(4, 1, -1):\n",
    "    print(f\"Model: '{bic_bwd_model}', BIC = {bic_bwd}\")\n",
    "    for model in BIC.keys():\n",
    "        if len(model) == i and BIC[model] < bic_bwd:\n",
    "            bic_bwd = BIC[model]\n",
    "            bic_bwd_model = model"
   ]
  },
  {
   "cell_type": "code",
   "execution_count": null,
   "metadata": {},
   "outputs": [],
   "source": []
  }
 ],
 "metadata": {
  "kernelspec": {
   "display_name": "Python 3",
   "language": "python",
   "name": "python3"
  },
  "language_info": {
   "codemirror_mode": {
    "name": "ipython",
    "version": 3
   },
   "file_extension": ".py",
   "mimetype": "text/x-python",
   "name": "python",
   "nbconvert_exporter": "python",
   "pygments_lexer": "ipython3",
   "version": "3.7.1"
  }
 },
 "nbformat": 4,
 "nbformat_minor": 2
}
