{
 "cells": [
  {
   "cell_type": "markdown",
   "metadata": {},
   "source": [
    "# Tutorial 5"
   ]
  },
  {
   "cell_type": "code",
   "execution_count": 1,
   "metadata": {},
   "outputs": [],
   "source": [
    "import matplotlib.pyplot as plt\n",
    "import numpy as np\n",
    "import pandas as pd\n",
    "from scipy import special, stats\n",
    "from math import sqrt\n",
    "from statistics import mean, variance, stdev"
   ]
  },
  {
   "cell_type": "markdown",
   "metadata": {},
   "source": [
    "Q1:"
   ]
  },
  {
   "cell_type": "code",
   "execution_count": 2,
   "metadata": {},
   "outputs": [],
   "source": [
    "y_N = 1601\n",
    "y_S = 510\n",
    "n_N = 162527 + y_N\n",
    "n_S = 412368 + y_S"
   ]
  },
  {
   "cell_type": "code",
   "execution_count": 3,
   "metadata": {},
   "outputs": [
    {
     "data": {
      "image/png": "[encoded data removed]",
      "text/plain": [
       "<Figure size 720x720 with 4 Axes>"
      ]
     },
     "metadata": {
      "needs_background": "light"
     },
     "output_type": "display_data"
    }
   ],
   "source": [
    "fig, ax  = plt.subplots(2,2, figsize=(10,10))\n",
    "\n",
    "num_variates = 10000\n",
    "\n",
    "beta_1602_162528_variates = stats.beta.rvs(y_N+1, n_N-y_N+1, size=num_variates)\n",
    "beta_511_412369_variates = stats.beta.rvs(y_S+1, n_S-y_S+1, size=num_variates)\n",
    "relrisk = beta_1602_162528_variates / beta_511_412369_variates\n",
    "diffrisk = beta_1602_162528_variates - beta_511_412369_variates\n",
    "\n",
    "ax[0][0].hist(beta_1602_162528_variates, bins=50)\n",
    "ax[0][0].set_title(\"Histogram of Beta(1602, 162528) variates\")\n",
    "ax[0][0].set_ylabel(\"Frequency\")\n",
    "\n",
    "ax[0][1].hist(beta_511_412369_variates, bins=50)\n",
    "ax[0][1].set_title(\"Histogram of Beta(511, 412369)\")\n",
    "ax[0][1].set_ylabel(\"Frequency\")\n",
    "\n",
    "ax[1][0].hist(relrisk, bins=50)\n",
    "ax[1][0].set_title(\"Histogram of relative risk\")\n",
    "ax[1][0].set_xlabel(\"relrisk\")\n",
    "ax[1][0].set_ylabel(\"Frequency\")\n",
    "\n",
    "ax[1][1].hist(diffrisk, bins=50)\n",
    "ax[1][1].set_title(\"Histogram of difference in risk\")\n",
    "ax[1][1].set_xlabel(\"diff risk\")\n",
    "ax[1][1].set_ylabel(\"Frequency\")\n",
    "\n",
    "plt.show()"
   ]
  },
  {
   "cell_type": "markdown",
   "metadata": {},
   "source": [
    "95% confidence interval of `relrisk`"
   ]
  },
  {
   "cell_type": "code",
   "execution_count": 4,
   "metadata": {},
   "outputs": [
    {
     "data": {
      "text/plain": [
       "array([7.12594152, 8.71079732])"
      ]
     },
     "execution_count": 4,
     "metadata": {},
     "output_type": "execute_result"
    }
   ],
   "source": [
    "np.quantile(relrisk, [.025, .975])"
   ]
  },
  {
   "cell_type": "markdown",
   "metadata": {},
   "source": [
    "Estimate of the posterior probability that the difference in risks exceeds 0"
   ]
  },
  {
   "cell_type": "code",
   "execution_count": 5,
   "metadata": {},
   "outputs": [
    {
     "data": {
      "text/plain": [
       "1.0"
      ]
     },
     "execution_count": 5,
     "metadata": {},
     "output_type": "execute_result"
    }
   ],
   "source": [
    "sum(diffrisk > 0) / len(diffrisk)"
   ]
  },
  {
   "cell_type": "markdown",
   "metadata": {},
   "source": [
    "Q2: The posterior distribution is\n",
    "\n",
    "\\begin{align*}\n",
    "    p(\\theta, \\sigma^{2} | \\boldsymbol{y})\n",
    "            &=p(\\theta | \\sigma^{2}, \\boldsymbol{y}) p(\\sigma^{2} | \\boldsymbol{y})\n",
    "\\end{align*}\n",
    "where $\\theta | \\sigma^{2}, \\boldsymbol{y}\\sim \\mathrm{N}\\left(\\mu_{1}, \\dfrac{\\sigma^{2}}{n_{1}}\\right)$\n",
    "and $\\sigma^{2}| \\boldsymbol{y} \\sim \\operatorname{lnv-Gamma}\\left(\\dfrac{\\nu_{1}}{2}, \\dfrac{\\nu_{1} \\sigma_{1}^{2}}{2}\\right)$;\n",
    "\n",
    "- $\\mu_{1}\n",
    "    =\\dfrac{n \\bar{y}+n_{0} \\mu_{0}}{n+n_{0}}$\n",
    "- $n_{1}\n",
    "    =n+n_{0}$\n",
    "- $\\nu_{1}\n",
    "    =\\nu_{0}+n$\n",
    "- $\\sigma_{1}^{2}\n",
    "    =\\dfrac{1}{\\nu_{1}}\\left[\\nu_{0} \\sigma_{0}^{2}+(n-1) s^{2}+\\dfrac{n n_{0}\\left(\\bar{y}-\\mu_{0}\\right)^{2}}{n+n_{0}}\\right]$\n",
    "- $s^2=\\dfrac{1}{n-1} \\sum_{i=1}^{n}\\left(y_{i}-\\bar{y}\\right)^{2}$ is the sample variance of $\\boldsymbol{y}$.\n",
    "    \n",
    "It is given that $\\mu_0=5, n_0=1, \\nu_0=2, S_0:=\\nu_0\\sigma_0^2=8$."
   ]
  },
  {
   "cell_type": "code",
   "execution_count": 6,
   "metadata": {},
   "outputs": [],
   "source": [
    "school1 = pd.read_table(\"datasets/school1.txt\", sep=\"\\n\", header=None, names=[\"data\"])\n",
    "school2 = pd.read_table(\"datasets/school2.txt\", sep=\"\\n\", header=None, names=[\"data\"])\n",
    "school3 = pd.read_table(\"datasets/school3.txt\", sep=\"\\n\", header=None, names=[\"data\"])\n",
    "\n",
    "school1_data = list(school1.data)\n",
    "school2_data = list(school2.data)\n",
    "school3_data = list(school3.data)"
   ]
  },
  {
   "cell_type": "code",
   "execution_count": 7,
   "metadata": {},
   "outputs": [],
   "source": [
    "mu_0 = 5\n",
    "n_0 = 1\n",
    "nu_0 = 2\n",
    "S_0 = 8\n",
    "\n",
    "NUM_VARIATES = 10000"
   ]
  },
  {
   "cell_type": "markdown",
   "metadata": {},
   "source": [
    "A random variable $X$ follows the **inverse-gamma distribution** with shape parameter $a$ and scale parameter $b$, denoted by $X \\sim$ Inv-Gamma$(a, b)$, if $X$ has the pdf\n",
    "    \\begin{align*}\n",
    "        p(x)=\\frac{b^{a}}{\\Gamma(a)}x^{-a-1} \\exp \\left(-\\frac{b}{x}\\right) \\text { for } x>0\n",
    "    \\end{align*}\n",
    "    \n",
    "- The inverse-gamma pdf in `scipy` is a bit different from the above. [`scipy.stats.invgamma(x,a)`](https://docs.scipy.org/doc/scipy/reference/generated/scipy.stats.invgamma.html) is essentially Inv-Gamma$(a, 1)$\n",
    "    \\begin{align*}\n",
    "        f(x, a)=\\frac{x^{-a-1}}{\\Gamma(a)} \\exp \\left(-\\frac{1}{x}\\right)\n",
    "    \\end{align*}\n",
    "    \n",
    "- Instead of generating from Inv-Gamma$(a,b)$ directly, generate from $X\\sim$ Gamma$(a,b)$ and take $1/X$."
   ]
  },
  {
   "cell_type": "code",
   "execution_count": 8,
   "metadata": {},
   "outputs": [],
   "source": [
    "def posterior_q2(y, num_variates):\n",
    "    n = len(y)\n",
    "    mu_1 = (n*mean(y) + n_0*mu_0) / (n + n_0)\n",
    "    n_1 = n + n_0\n",
    "    nu_1 = nu_0 + n\n",
    "    S_1 = (S_0 + (n-1)*variance(y) + (n*n_0*(mean(y)-mu_0)**2)/(n+n_0))\n",
    "    \n",
    "    temp = np.random.gamma(nu_1/2, 2/S_1, size=num_variates)\n",
    "    \n",
    "    sigma = [sqrt(1 / x) for x in temp] \n",
    "    \n",
    "    return stats.norm.rvs(loc=mu_1, scale=sigma, size=num_variates), sigma"
   ]
  },
  {
   "cell_type": "code",
   "execution_count": 9,
   "metadata": {},
   "outputs": [],
   "source": [
    "theta_1, sigma_1 = posterior_q2(school1_data, NUM_VARIATES)\n",
    "theta_2, sigma_2 = posterior_q2(school2_data, NUM_VARIATES)\n",
    "theta_3, sigma_3 = posterior_q2(school3_data, NUM_VARIATES)"
   ]
  },
  {
   "cell_type": "markdown",
   "metadata": {},
   "source": [
    "Q2a: Posterior means for $\\theta$"
   ]
  },
  {
   "cell_type": "code",
   "execution_count": 10,
   "metadata": {},
   "outputs": [
    {
     "data": {
      "text/plain": [
       "(9.331225567093615, 6.853561373223161, 7.755357963799282)"
      ]
     },
     "execution_count": 10,
     "metadata": {},
     "output_type": "execute_result"
    }
   ],
   "source": [
    "mean(theta_1), mean(theta_2), mean(theta_3)"
   ]
  },
  {
   "cell_type": "markdown",
   "metadata": {},
   "source": [
    "Q2a: Posterior means for $\\sigma$"
   ]
  },
  {
   "cell_type": "code",
   "execution_count": 11,
   "metadata": {},
   "outputs": [
    {
     "data": {
      "text/plain": [
       "(3.895724361414725, 4.389347895455766, 3.750176526776111)"
      ]
     },
     "execution_count": 11,
     "metadata": {},
     "output_type": "execute_result"
    }
   ],
   "source": [
    "mean(sigma_1), mean(sigma_2), mean(sigma_3)"
   ]
  },
  {
   "cell_type": "markdown",
   "metadata": {},
   "source": [
    "Q2b:\n",
    "\n",
    "\\begin{align*}\n",
    "    P(\\theta_3 < \\theta_2 < \\theta_1)\n",
    "        = E[I(\\theta_1 < \\theta_2 < \\theta_3)] \n",
    "        \\approx \\frac{1}{M}\\sum_{i=1}^M I(\\theta_1^{(i)} < \\theta_2^{(i)} < \\theta_3^{(i)})\n",
    "\\end{align*}"
   ]
  },
  {
   "cell_type": "code",
   "execution_count": 12,
   "metadata": {},
   "outputs": [
    {
     "data": {
      "text/plain": [
       "0.205"
      ]
     },
     "execution_count": 12,
     "metadata": {},
     "output_type": "execute_result"
    }
   ],
   "source": [
    "sum((theta_3 < theta_2) & (theta_2 < theta_1)) / NUM_VARIATES"
   ]
  },
  {
   "cell_type": "markdown",
   "metadata": {},
   "source": [
    "Q2c:\n",
    "\n",
    "\\begin{align*}\n",
    "    P(\\tilde{Y}_1 < \\tilde{Y}_2 < \\tilde{Y}_3) \n",
    "        = E[I(\\tilde{Y}_1 < \\tilde{Y}_2 < \\tilde{Y}_3)] \n",
    "        \\approx \\frac{1}{M}\\sum_{i=1}^M I(\\tilde{y}_1^{(i)} < \\tilde{y}_2^{(i)} < \\tilde{y}_3^{(i)})\n",
    "\\end{align*}"
   ]
  },
  {
   "cell_type": "code",
   "execution_count": 13,
   "metadata": {},
   "outputs": [],
   "source": [
    "y_1 = np.random.normal(loc=mean(theta_1), scale=mean(sigma_1), size=NUM_VARIATES)\n",
    "y_2 = np.random.normal(loc=mean(theta_2), scale=mean(sigma_2), size=NUM_VARIATES)\n",
    "y_3 = np.random.normal(loc=mean(theta_3), scale=mean(sigma_3), size=NUM_VARIATES)"
   ]
  },
  {
   "cell_type": "code",
   "execution_count": 14,
   "metadata": {},
   "outputs": [
    {
     "data": {
      "text/plain": [
       "0.2016"
      ]
     },
     "execution_count": 14,
     "metadata": {},
     "output_type": "execute_result"
    }
   ],
   "source": [
    "sum((y_3 < y_2) & (y_2 < y_1)) / NUM_VARIATES"
   ]
  },
  {
   "cell_type": "markdown",
   "metadata": {},
   "source": [
    "Q2d:\n",
    "\n",
    "\\begin{align*}\n",
    "    P(\\theta_1 > \\theta_2 \\text{ and } \\theta_1 > \\theta_3) \n",
    "        &= E[I(\\theta_1 > \\theta_2 \\text{ and } \\theta_1 > \\theta_3)] \n",
    "        \\approx \\frac{1}{M}\\sum_{i=1}^M I(\\theta_1^{(i)} > \\theta_2^{(i)} \\text{ and } \\theta_1^{(i)} > \\theta_3^{(i)})\\\\\n",
    "    P(\\tilde{Y}_1 > \\tilde{Y}_2 \\text{ and } \\tilde{Y}_1 > \\tilde{Y}_3) \n",
    "        &= E[I(\\tilde{Y}_1 > \\tilde{Y}_2 \\text{ and } \\tilde{Y}_1 > \\tilde{Y}_3)] \n",
    "        \\approx \\frac{1}{M}\\sum_{i=1}^M I(\\tilde{y}_1^{(i)} > \\tilde{y}_2^{(i)} \\text{ and } \\tilde{y}_1^{(i)} > \\tilde{y}_3^{(i)})\n",
    "\\end{align*}\n",
    "\n",
    "where $\\theta_{i,j}, \\tilde{y}_{i,j}$ are simulated values."
   ]
  },
  {
   "cell_type": "code",
   "execution_count": 15,
   "metadata": {},
   "outputs": [
    {
     "data": {
      "text/plain": [
       "(0.4822, 0.4745)"
      ]
     },
     "execution_count": 15,
     "metadata": {},
     "output_type": "execute_result"
    }
   ],
   "source": [
    "sum((theta_1 > theta_2) & (theta_1 > theta_3)) / NUM_VARIATES,\\\n",
    "sum((y_1 > theta_2) & (y_1 > theta_3)) / NUM_VARIATES"
   ]
  },
  {
   "cell_type": "code",
   "execution_count": null,
   "metadata": {},
   "outputs": [],
   "source": []
  },
  {
   "cell_type": "code",
   "execution_count": null,
   "metadata": {},
   "outputs": [],
   "source": []
  },
  {
   "cell_type": "code",
   "execution_count": null,
   "metadata": {},
   "outputs": [],
   "source": []
  },
  {
   "cell_type": "code",
   "execution_count": null,
   "metadata": {},
   "outputs": [],
   "source": []
  },
  {
   "cell_type": "code",
   "execution_count": null,
   "metadata": {},
   "outputs": [],
   "source": []
  },
  {
   "cell_type": "code",
   "execution_count": null,
   "metadata": {},
   "outputs": [],
   "source": []
  },
  {
   "cell_type": "code",
   "execution_count": null,
   "metadata": {},
   "outputs": [],
   "source": []
  },
  {
   "cell_type": "code",
   "execution_count": null,
   "metadata": {},
   "outputs": [],
   "source": []
  },
  {
   "cell_type": "code",
   "execution_count": null,
   "metadata": {},
   "outputs": [],
   "source": []
  },
  {
   "cell_type": "code",
   "execution_count": null,
   "metadata": {},
   "outputs": [],
   "source": []
  }
 ],
 "metadata": {
  "kernelspec": {
   "display_name": "Python 3",
   "language": "python",
   "name": "python3"
  },
  "language_info": {
   "codemirror_mode": {
    "name": "ipython",
    "version": 3
   },
   "file_extension": ".py",
   "mimetype": "text/x-python",
   "name": "python",
   "nbconvert_exporter": "python",
   "pygments_lexer": "ipython3",
   "version": "3.8.5"
  }
 },
 "nbformat": 4,
 "nbformat_minor": 4
}
